{
  "nbformat": 4,
  "nbformat_minor": 0,
  "metadata": {
    "colab": {
      "provenance": [],
      "gpuType": "T4"
    },
    "kernelspec": {
      "name": "python3",
      "display_name": "Python 3"
    },
    "language_info": {
      "name": "python"
    },
    "accelerator": "GPU"
  },
  "cells": [
    {
      "cell_type": "code",
      "execution_count": 7,
      "metadata": {
        "id": "OgmAmkyjgHtP"
      },
      "outputs": [],
      "source": [
        "import pandas as pd\n",
        "import numpy as np\n",
        "import matplotlib.pyplot as plt"
      ]
    },
    {
      "cell_type": "code",
      "source": [
        "df = pd.read_csv('BRITANNIA.csv')"
      ],
      "metadata": {
        "id": "T5_6mWF6jdv9"
      },
      "execution_count": 8,
      "outputs": []
    },
    {
      "cell_type": "code",
      "source": [
        "df.shape[0]"
      ],
      "metadata": {
        "colab": {
          "base_uri": "https://localhost:8080/"
        },
        "id": "eTPBkpOEHHhK",
        "outputId": "e4a337f1-19d4-42d0-8975-1675e49259e5"
      },
      "execution_count": 34,
      "outputs": [
        {
          "output_type": "execute_result",
          "data": {
            "text/plain": [
              "5305"
            ]
          },
          "metadata": {},
          "execution_count": 34
        }
      ]
    },
    {
      "cell_type": "code",
      "source": [
        "df.shape[1]"
      ],
      "metadata": {
        "colab": {
          "base_uri": "https://localhost:8080/"
        },
        "id": "ywbIvacGHixw",
        "outputId": "dc5259f8-d69d-4cc3-bdb2-95313133d14e"
      },
      "execution_count": 35,
      "outputs": [
        {
          "output_type": "execute_result",
          "data": {
            "text/plain": [
              "14"
            ]
          },
          "metadata": {},
          "execution_count": 35
        }
      ]
    },
    {
      "cell_type": "code",
      "source": [
        "df.head()"
      ],
      "metadata": {
        "colab": {
          "base_uri": "https://localhost:8080/",
          "height": 330
        },
        "id": "7ktM-GgVka8W",
        "outputId": "52b1b677-a9ff-41fc-ec7b-54966a096e40"
      },
      "execution_count": 9,
      "outputs": [
        {
          "output_type": "execute_result",
          "data": {
            "text/plain": [
              "         Date     Symbol Series  Prev Close   Open    High    Low   Last  \\\n",
              "0  2000-01-03  BRITANNIA     EQ      703.25  705.0  759.50  705.0  758.0   \n",
              "1  2000-01-04  BRITANNIA     EQ      756.90  710.0  770.00  710.0  740.0   \n",
              "2  2000-01-05  BRITANNIA     EQ      754.55  755.0  759.00  705.0  740.0   \n",
              "3  2000-01-06  BRITANNIA     EQ      735.30  740.0  794.15  740.0  770.0   \n",
              "4  2000-01-07  BRITANNIA     EQ      785.65  808.0  848.50  798.0  848.5   \n",
              "\n",
              "    Close    VWAP  Volume      Turnover  Trades  Deliverable Volume  \\\n",
              "0  756.90  741.01    7512  5.566488e+11     NaN                 NaN   \n",
              "1  754.55  742.52    8135  6.040391e+11     NaN                 NaN   \n",
              "2  735.30  739.92    6095  4.509784e+11     NaN                 NaN   \n",
              "3  785.65  788.83   19697  1.553756e+12     NaN                 NaN   \n",
              "4  848.50  827.53   33107  2.739708e+12     NaN                 NaN   \n",
              "\n",
              "   %Deliverble  \n",
              "0          NaN  \n",
              "1          NaN  \n",
              "2          NaN  \n",
              "3          NaN  \n",
              "4          NaN  "
            ],
            "text/html": [
              "\n",
              "  <div id=\"df-f1a3ef25-2f29-4917-8789-f858775ca6cc\" class=\"colab-df-container\">\n",
              "    <div>\n",
              "<style scoped>\n",
              "    .dataframe tbody tr th:only-of-type {\n",
              "        vertical-align: middle;\n",
              "    }\n",
              "\n",
              "    .dataframe tbody tr th {\n",
              "        vertical-align: top;\n",
              "    }\n",
              "\n",
              "    .dataframe thead th {\n",
              "        text-align: right;\n",
              "    }\n",
              "</style>\n",
              "<table border=\"1\" class=\"dataframe\">\n",
              "  <thead>\n",
              "    <tr style=\"text-align: right;\">\n",
              "      <th></th>\n",
              "      <th>Date</th>\n",
              "      <th>Symbol</th>\n",
              "      <th>Series</th>\n",
              "      <th>Prev Close</th>\n",
              "      <th>Open</th>\n",
              "      <th>High</th>\n",
              "      <th>Low</th>\n",
              "      <th>Last</th>\n",
              "      <th>Close</th>\n",
              "      <th>VWAP</th>\n",
              "      <th>Volume</th>\n",
              "      <th>Turnover</th>\n",
              "      <th>Trades</th>\n",
              "      <th>Deliverable Volume</th>\n",
              "      <th>%Deliverble</th>\n",
              "    </tr>\n",
              "  </thead>\n",
              "  <tbody>\n",
              "    <tr>\n",
              "      <th>0</th>\n",
              "      <td>2000-01-03</td>\n",
              "      <td>BRITANNIA</td>\n",
              "      <td>EQ</td>\n",
              "      <td>703.25</td>\n",
              "      <td>705.0</td>\n",
              "      <td>759.50</td>\n",
              "      <td>705.0</td>\n",
              "      <td>758.0</td>\n",
              "      <td>756.90</td>\n",
              "      <td>741.01</td>\n",
              "      <td>7512</td>\n",
              "      <td>5.566488e+11</td>\n",
              "      <td>NaN</td>\n",
              "      <td>NaN</td>\n",
              "      <td>NaN</td>\n",
              "    </tr>\n",
              "    <tr>\n",
              "      <th>1</th>\n",
              "      <td>2000-01-04</td>\n",
              "      <td>BRITANNIA</td>\n",
              "      <td>EQ</td>\n",
              "      <td>756.90</td>\n",
              "      <td>710.0</td>\n",
              "      <td>770.00</td>\n",
              "      <td>710.0</td>\n",
              "      <td>740.0</td>\n",
              "      <td>754.55</td>\n",
              "      <td>742.52</td>\n",
              "      <td>8135</td>\n",
              "      <td>6.040391e+11</td>\n",
              "      <td>NaN</td>\n",
              "      <td>NaN</td>\n",
              "      <td>NaN</td>\n",
              "    </tr>\n",
              "    <tr>\n",
              "      <th>2</th>\n",
              "      <td>2000-01-05</td>\n",
              "      <td>BRITANNIA</td>\n",
              "      <td>EQ</td>\n",
              "      <td>754.55</td>\n",
              "      <td>755.0</td>\n",
              "      <td>759.00</td>\n",
              "      <td>705.0</td>\n",
              "      <td>740.0</td>\n",
              "      <td>735.30</td>\n",
              "      <td>739.92</td>\n",
              "      <td>6095</td>\n",
              "      <td>4.509784e+11</td>\n",
              "      <td>NaN</td>\n",
              "      <td>NaN</td>\n",
              "      <td>NaN</td>\n",
              "    </tr>\n",
              "    <tr>\n",
              "      <th>3</th>\n",
              "      <td>2000-01-06</td>\n",
              "      <td>BRITANNIA</td>\n",
              "      <td>EQ</td>\n",
              "      <td>735.30</td>\n",
              "      <td>740.0</td>\n",
              "      <td>794.15</td>\n",
              "      <td>740.0</td>\n",
              "      <td>770.0</td>\n",
              "      <td>785.65</td>\n",
              "      <td>788.83</td>\n",
              "      <td>19697</td>\n",
              "      <td>1.553756e+12</td>\n",
              "      <td>NaN</td>\n",
              "      <td>NaN</td>\n",
              "      <td>NaN</td>\n",
              "    </tr>\n",
              "    <tr>\n",
              "      <th>4</th>\n",
              "      <td>2000-01-07</td>\n",
              "      <td>BRITANNIA</td>\n",
              "      <td>EQ</td>\n",
              "      <td>785.65</td>\n",
              "      <td>808.0</td>\n",
              "      <td>848.50</td>\n",
              "      <td>798.0</td>\n",
              "      <td>848.5</td>\n",
              "      <td>848.50</td>\n",
              "      <td>827.53</td>\n",
              "      <td>33107</td>\n",
              "      <td>2.739708e+12</td>\n",
              "      <td>NaN</td>\n",
              "      <td>NaN</td>\n",
              "      <td>NaN</td>\n",
              "    </tr>\n",
              "  </tbody>\n",
              "</table>\n",
              "</div>\n",
              "    <div class=\"colab-df-buttons\">\n",
              "\n",
              "  <div class=\"colab-df-container\">\n",
              "    <button class=\"colab-df-convert\" onclick=\"convertToInteractive('df-f1a3ef25-2f29-4917-8789-f858775ca6cc')\"\n",
              "            title=\"Convert this dataframe to an interactive table.\"\n",
              "            style=\"display:none;\">\n",
              "\n",
              "  <svg xmlns=\"http://www.w3.org/2000/svg\" height=\"24px\" viewBox=\"0 -960 960 960\">\n",
              "    <path d=\"M120-120v-720h720v720H120Zm60-500h600v-160H180v160Zm220 220h160v-160H400v160Zm0 220h160v-160H400v160ZM180-400h160v-160H180v160Zm440 0h160v-160H620v160ZM180-180h160v-160H180v160Zm440 0h160v-160H620v160Z\"/>\n",
              "  </svg>\n",
              "    </button>\n",
              "\n",
              "  <style>\n",
              "    .colab-df-container {\n",
              "      display:flex;\n",
              "      gap: 12px;\n",
              "    }\n",
              "\n",
              "    .colab-df-convert {\n",
              "      background-color: #E8F0FE;\n",
              "      border: none;\n",
              "      border-radius: 50%;\n",
              "      cursor: pointer;\n",
              "      display: none;\n",
              "      fill: #1967D2;\n",
              "      height: 32px;\n",
              "      padding: 0 0 0 0;\n",
              "      width: 32px;\n",
              "    }\n",
              "\n",
              "    .colab-df-convert:hover {\n",
              "      background-color: #E2EBFA;\n",
              "      box-shadow: 0px 1px 2px rgba(60, 64, 67, 0.3), 0px 1px 3px 1px rgba(60, 64, 67, 0.15);\n",
              "      fill: #174EA6;\n",
              "    }\n",
              "\n",
              "    .colab-df-buttons div {\n",
              "      margin-bottom: 4px;\n",
              "    }\n",
              "\n",
              "    [theme=dark] .colab-df-convert {\n",
              "      background-color: #3B4455;\n",
              "      fill: #D2E3FC;\n",
              "    }\n",
              "\n",
              "    [theme=dark] .colab-df-convert:hover {\n",
              "      background-color: #434B5C;\n",
              "      box-shadow: 0px 1px 3px 1px rgba(0, 0, 0, 0.15);\n",
              "      filter: drop-shadow(0px 1px 2px rgba(0, 0, 0, 0.3));\n",
              "      fill: #FFFFFF;\n",
              "    }\n",
              "  </style>\n",
              "\n",
              "    <script>\n",
              "      const buttonEl =\n",
              "        document.querySelector('#df-f1a3ef25-2f29-4917-8789-f858775ca6cc button.colab-df-convert');\n",
              "      buttonEl.style.display =\n",
              "        google.colab.kernel.accessAllowed ? 'block' : 'none';\n",
              "\n",
              "      async function convertToInteractive(key) {\n",
              "        const element = document.querySelector('#df-f1a3ef25-2f29-4917-8789-f858775ca6cc');\n",
              "        const dataTable =\n",
              "          await google.colab.kernel.invokeFunction('convertToInteractive',\n",
              "                                                    [key], {});\n",
              "        if (!dataTable) return;\n",
              "\n",
              "        const docLinkHtml = 'Like what you see? Visit the ' +\n",
              "          '<a target=\"_blank\" href=https://colab.research.google.com/notebooks/data_table.ipynb>data table notebook</a>'\n",
              "          + ' to learn more about interactive tables.';\n",
              "        element.innerHTML = '';\n",
              "        dataTable['output_type'] = 'display_data';\n",
              "        await google.colab.output.renderOutput(dataTable, element);\n",
              "        const docLink = document.createElement('div');\n",
              "        docLink.innerHTML = docLinkHtml;\n",
              "        element.appendChild(docLink);\n",
              "      }\n",
              "    </script>\n",
              "  </div>\n",
              "\n",
              "\n",
              "<div id=\"df-c9b31c16-2920-438c-a9a2-e6dd325d3694\">\n",
              "  <button class=\"colab-df-quickchart\" onclick=\"quickchart('df-c9b31c16-2920-438c-a9a2-e6dd325d3694')\"\n",
              "            title=\"Suggest charts\"\n",
              "            style=\"display:none;\">\n",
              "\n",
              "<svg xmlns=\"http://www.w3.org/2000/svg\" height=\"24px\"viewBox=\"0 0 24 24\"\n",
              "     width=\"24px\">\n",
              "    <g>\n",
              "        <path d=\"M19 3H5c-1.1 0-2 .9-2 2v14c0 1.1.9 2 2 2h14c1.1 0 2-.9 2-2V5c0-1.1-.9-2-2-2zM9 17H7v-7h2v7zm4 0h-2V7h2v10zm4 0h-2v-4h2v4z\"/>\n",
              "    </g>\n",
              "</svg>\n",
              "  </button>\n",
              "\n",
              "<style>\n",
              "  .colab-df-quickchart {\n",
              "      --bg-color: #E8F0FE;\n",
              "      --fill-color: #1967D2;\n",
              "      --hover-bg-color: #E2EBFA;\n",
              "      --hover-fill-color: #174EA6;\n",
              "      --disabled-fill-color: #AAA;\n",
              "      --disabled-bg-color: #DDD;\n",
              "  }\n",
              "\n",
              "  [theme=dark] .colab-df-quickchart {\n",
              "      --bg-color: #3B4455;\n",
              "      --fill-color: #D2E3FC;\n",
              "      --hover-bg-color: #434B5C;\n",
              "      --hover-fill-color: #FFFFFF;\n",
              "      --disabled-bg-color: #3B4455;\n",
              "      --disabled-fill-color: #666;\n",
              "  }\n",
              "\n",
              "  .colab-df-quickchart {\n",
              "    background-color: var(--bg-color);\n",
              "    border: none;\n",
              "    border-radius: 50%;\n",
              "    cursor: pointer;\n",
              "    display: none;\n",
              "    fill: var(--fill-color);\n",
              "    height: 32px;\n",
              "    padding: 0;\n",
              "    width: 32px;\n",
              "  }\n",
              "\n",
              "  .colab-df-quickchart:hover {\n",
              "    background-color: var(--hover-bg-color);\n",
              "    box-shadow: 0 1px 2px rgba(60, 64, 67, 0.3), 0 1px 3px 1px rgba(60, 64, 67, 0.15);\n",
              "    fill: var(--button-hover-fill-color);\n",
              "  }\n",
              "\n",
              "  .colab-df-quickchart-complete:disabled,\n",
              "  .colab-df-quickchart-complete:disabled:hover {\n",
              "    background-color: var(--disabled-bg-color);\n",
              "    fill: var(--disabled-fill-color);\n",
              "    box-shadow: none;\n",
              "  }\n",
              "\n",
              "  .colab-df-spinner {\n",
              "    border: 2px solid var(--fill-color);\n",
              "    border-color: transparent;\n",
              "    border-bottom-color: var(--fill-color);\n",
              "    animation:\n",
              "      spin 1s steps(1) infinite;\n",
              "  }\n",
              "\n",
              "  @keyframes spin {\n",
              "    0% {\n",
              "      border-color: transparent;\n",
              "      border-bottom-color: var(--fill-color);\n",
              "      border-left-color: var(--fill-color);\n",
              "    }\n",
              "    20% {\n",
              "      border-color: transparent;\n",
              "      border-left-color: var(--fill-color);\n",
              "      border-top-color: var(--fill-color);\n",
              "    }\n",
              "    30% {\n",
              "      border-color: transparent;\n",
              "      border-left-color: var(--fill-color);\n",
              "      border-top-color: var(--fill-color);\n",
              "      border-right-color: var(--fill-color);\n",
              "    }\n",
              "    40% {\n",
              "      border-color: transparent;\n",
              "      border-right-color: var(--fill-color);\n",
              "      border-top-color: var(--fill-color);\n",
              "    }\n",
              "    60% {\n",
              "      border-color: transparent;\n",
              "      border-right-color: var(--fill-color);\n",
              "    }\n",
              "    80% {\n",
              "      border-color: transparent;\n",
              "      border-right-color: var(--fill-color);\n",
              "      border-bottom-color: var(--fill-color);\n",
              "    }\n",
              "    90% {\n",
              "      border-color: transparent;\n",
              "      border-bottom-color: var(--fill-color);\n",
              "    }\n",
              "  }\n",
              "</style>\n",
              "\n",
              "  <script>\n",
              "    async function quickchart(key) {\n",
              "      const quickchartButtonEl =\n",
              "        document.querySelector('#' + key + ' button');\n",
              "      quickchartButtonEl.disabled = true;  // To prevent multiple clicks.\n",
              "      quickchartButtonEl.classList.add('colab-df-spinner');\n",
              "      try {\n",
              "        const charts = await google.colab.kernel.invokeFunction(\n",
              "            'suggestCharts', [key], {});\n",
              "      } catch (error) {\n",
              "        console.error('Error during call to suggestCharts:', error);\n",
              "      }\n",
              "      quickchartButtonEl.classList.remove('colab-df-spinner');\n",
              "      quickchartButtonEl.classList.add('colab-df-quickchart-complete');\n",
              "    }\n",
              "    (() => {\n",
              "      let quickchartButtonEl =\n",
              "        document.querySelector('#df-c9b31c16-2920-438c-a9a2-e6dd325d3694 button');\n",
              "      quickchartButtonEl.style.display =\n",
              "        google.colab.kernel.accessAllowed ? 'block' : 'none';\n",
              "    })();\n",
              "  </script>\n",
              "</div>\n",
              "\n",
              "    </div>\n",
              "  </div>\n"
            ],
            "application/vnd.google.colaboratory.intrinsic+json": {
              "type": "dataframe",
              "variable_name": "df",
              "summary": "{\n  \"name\": \"df\",\n  \"rows\": 5305,\n  \"fields\": [\n    {\n      \"column\": \"Date\",\n      \"properties\": {\n        \"dtype\": \"object\",\n        \"num_unique_values\": 5305,\n        \"samples\": [\n          \"2003-04-01\",\n          \"2016-03-16\",\n          \"2019-04-10\"\n        ],\n        \"semantic_type\": \"\",\n        \"description\": \"\"\n      }\n    },\n    {\n      \"column\": \"Symbol\",\n      \"properties\": {\n        \"dtype\": \"category\",\n        \"num_unique_values\": 1,\n        \"samples\": [\n          \"BRITANNIA\"\n        ],\n        \"semantic_type\": \"\",\n        \"description\": \"\"\n      }\n    },\n    {\n      \"column\": \"Series\",\n      \"properties\": {\n        \"dtype\": \"category\",\n        \"num_unique_values\": 1,\n        \"samples\": [\n          \"EQ\"\n        ],\n        \"semantic_type\": \"\",\n        \"description\": \"\"\n      }\n    },\n    {\n      \"column\": \"Prev Close\",\n      \"properties\": {\n        \"dtype\": \"number\",\n        \"std\": 1364.8348876573377,\n        \"min\": 336.35,\n        \"max\": 6900.15,\n        \"num_unique_values\": 4919,\n        \"samples\": [\n          601.05\n        ],\n        \"semantic_type\": \"\",\n        \"description\": \"\"\n      }\n    },\n    {\n      \"column\": \"Open\",\n      \"properties\": {\n        \"dtype\": \"number\",\n        \"std\": 1367.095820253444,\n        \"min\": 340.0,\n        \"max\": 6918.0,\n        \"num_unique_values\": 3522,\n        \"samples\": [\n          2753.95\n        ],\n        \"semantic_type\": \"\",\n        \"description\": \"\"\n      }\n    },\n    {\n      \"column\": \"High\",\n      \"properties\": {\n        \"dtype\": \"number\",\n        \"std\": 1379.8485435327498,\n        \"min\": 347.7,\n        \"max\": 6934.35,\n        \"num_unique_values\": 3645,\n        \"samples\": [\n          518.95\n        ],\n        \"semantic_type\": \"\",\n        \"description\": \"\"\n      }\n    },\n    {\n      \"column\": \"Low\",\n      \"properties\": {\n        \"dtype\": \"number\",\n        \"std\": 1350.727532074337,\n        \"min\": 295.2,\n        \"max\": 6831.7,\n        \"num_unique_values\": 3756,\n        \"samples\": [\n          879.0\n        ],\n        \"semantic_type\": \"\",\n        \"description\": \"\"\n      }\n    },\n    {\n      \"column\": \"Last\",\n      \"properties\": {\n        \"dtype\": \"number\",\n        \"std\": 1365.0800434823484,\n        \"min\": 336.95,\n        \"max\": 6898.0,\n        \"num_unique_values\": 3554,\n        \"samples\": [\n          570.0\n        ],\n        \"semantic_type\": \"\",\n        \"description\": \"\"\n      }\n    },\n    {\n      \"column\": \"Close\",\n      \"properties\": {\n        \"dtype\": \"number\",\n        \"std\": 1364.9820050954534,\n        \"min\": 336.35,\n        \"max\": 6900.15,\n        \"num_unique_values\": 4919,\n        \"samples\": [\n          598.9\n        ],\n        \"semantic_type\": \"\",\n        \"description\": \"\"\n      }\n    },\n    {\n      \"column\": \"VWAP\",\n      \"properties\": {\n        \"dtype\": \"number\",\n        \"std\": 1365.3609313024915,\n        \"min\": 339.86,\n        \"max\": 6886.46,\n        \"num_unique_values\": 5212,\n        \"samples\": [\n          1445.9\n        ],\n        \"semantic_type\": \"\",\n        \"description\": \"\"\n      }\n    },\n    {\n      \"column\": \"Volume\",\n      \"properties\": {\n        \"dtype\": \"number\",\n        \"std\": 266895,\n        \"min\": 84,\n        \"max\": 5383773,\n        \"num_unique_values\": 5038,\n        \"samples\": [\n          1095855\n        ],\n        \"semantic_type\": \"\",\n        \"description\": \"\"\n      }\n    },\n    {\n      \"column\": \"Turnover\",\n      \"properties\": {\n        \"dtype\": \"number\",\n        \"std\": 91192912638315.84,\n        \"min\": 9614630000.0,\n        \"max\": 1954734263820000.0,\n        \"num_unique_values\": 5305,\n        \"samples\": [\n          105109570000.0\n        ],\n        \"semantic_type\": \"\",\n        \"description\": \"\"\n      }\n    },\n    {\n      \"column\": \"Trades\",\n      \"properties\": {\n        \"dtype\": \"number\",\n        \"std\": 22420.581856818782,\n        \"min\": 27.0,\n        \"max\": 294264.0,\n        \"num_unique_values\": 2371,\n        \"samples\": [\n          4324.0\n        ],\n        \"semantic_type\": \"\",\n        \"description\": \"\"\n      }\n    },\n    {\n      \"column\": \"Deliverable Volume\",\n      \"properties\": {\n        \"dtype\": \"number\",\n        \"std\": 134068.54269759543,\n        \"min\": 57.0,\n        \"max\": 4253015.0,\n        \"num_unique_values\": 4511,\n        \"samples\": [\n          5886.0\n        ],\n        \"semantic_type\": \"\",\n        \"description\": \"\"\n      }\n    },\n    {\n      \"column\": \"%Deliverble\",\n      \"properties\": {\n        \"dtype\": \"number\",\n        \"std\": 0.17915909692882268,\n        \"min\": 0.0279,\n        \"max\": 1.0,\n        \"num_unique_values\": 3390,\n        \"samples\": [\n          0.7454999999999999\n        ],\n        \"semantic_type\": \"\",\n        \"description\": \"\"\n      }\n    }\n  ]\n}"
            }
          },
          "metadata": {},
          "execution_count": 9
        }
      ]
    },
    {
      "cell_type": "code",
      "source": [
        "df['Date'] = pd.to_datetime(df['Date'])\n",
        "df.set_index('Date', inplace=True)"
      ],
      "metadata": {
        "id": "6x1_cuimAfrA"
      },
      "execution_count": 10,
      "outputs": []
    },
    {
      "cell_type": "code",
      "source": [
        "from sklearn.preprocessing import MinMaxScaler\n",
        "scaler = MinMaxScaler(feature_range=(0,1))\n",
        "df['Close'] = scaler.fit_transform(df[['Close']])"
      ],
      "metadata": {
        "id": "Y6-2nL7Ol8Ho"
      },
      "execution_count": 11,
      "outputs": []
    },
    {
      "cell_type": "code",
      "source": [
        "data = df['Close'].values.reshape(-1, 1)\n",
        "training_size = int(len(data)*0.65)\n",
        "test_size = len(data) - training_size\n",
        "train_data,test_data=data[0:training_size,:],data[training_size:len(data),:1]\n"
      ],
      "metadata": {
        "id": "tvpADsh6mY5a"
      },
      "execution_count": 12,
      "outputs": []
    },
    {
      "cell_type": "code",
      "source": [
        "training_size,test_size"
      ],
      "metadata": {
        "colab": {
          "base_uri": "https://localhost:8080/"
        },
        "id": "MBYZCS-Bmxhx",
        "outputId": "104f453b-84b5-4972-f10f-7fc6599770ae"
      },
      "execution_count": 13,
      "outputs": [
        {
          "output_type": "execute_result",
          "data": {
            "text/plain": [
              "(3448, 1857)"
            ]
          },
          "metadata": {},
          "execution_count": 13
        }
      ]
    },
    {
      "cell_type": "code",
      "source": [
        "train_data"
      ],
      "metadata": {
        "colab": {
          "base_uri": "https://localhost:8080/"
        },
        "id": "Z_wBqd68m3vf",
        "outputId": "6d6827ae-7350-473f-83f8-291694477c67"
      },
      "execution_count": 14,
      "outputs": [
        {
          "output_type": "execute_result",
          "data": {
            "text/plain": [
              "array([[0.06407112],\n",
              "       [0.06371309],\n",
              "       [0.06078034],\n",
              "       ...,\n",
              "       [0.08094397],\n",
              "       [0.08215515],\n",
              "       [0.08843962]])"
            ]
          },
          "metadata": {},
          "execution_count": 14
        }
      ]
    },
    {
      "cell_type": "code",
      "source": [
        "def create_dataset(dataset,time_step=1):\n",
        "  dataX,dataY = [],[]\n",
        "  for i in range(len(dataset)-time_step-1):\n",
        "    a = dataset[i:(i+time_step),0]\n",
        "    dataX.append(a)\n",
        "    dataY.append(dataset[i+time_step,0])\n",
        "  return np.array(dataX),np.array(dataY)"
      ],
      "metadata": {
        "id": "y4a4P_aLm6QB"
      },
      "execution_count": 15,
      "outputs": []
    },
    {
      "cell_type": "code",
      "source": [
        "time_step = 100\n",
        "x_train,y_train = create_dataset(train_data,time_step)\n",
        "x_test,y_test = create_dataset(test_data,time_step)"
      ],
      "metadata": {
        "id": "DH0Kfc1Hnfw3"
      },
      "execution_count": 16,
      "outputs": []
    },
    {
      "cell_type": "code",
      "source": [
        "x_train = x_train.reshape(x_train.shape[0], x_train.shape[1], 1)\n",
        "x_test = x_test.reshape(x_test.shape[0], x_test.shape[1], 1)"
      ],
      "metadata": {
        "id": "4ylru2LRCT-H"
      },
      "execution_count": 17,
      "outputs": []
    },
    {
      "cell_type": "code",
      "source": [
        "from tensorflow import keras\n",
        "from tensorflow.keras.models import Sequential\n",
        "from tensorflow.keras.layers import Dense\n",
        "from tensorflow.keras.layers import LSTM\n",
        "\n",
        "model = Sequential()\n",
        "model.add(LSTM(50, return_sequences=True, input_shape=(time_step, 1)))\n",
        "model.add(LSTM(50, return_sequences=False))\n",
        "model.add(Dense(1))\n",
        "model.compile(optimizer='adam', loss='mean_squared_error')"
      ],
      "metadata": {
        "id": "jbym4SX-njSA"
      },
      "execution_count": 18,
      "outputs": []
    },
    {
      "cell_type": "code",
      "source": [
        "model.fit(x_train, y_train, epochs=10, batch_size=64, validation_data=(x_test, y_test), verbose=1)"
      ],
      "metadata": {
        "colab": {
          "base_uri": "https://localhost:8080/"
        },
        "id": "bN3fjCmVpS30",
        "outputId": "182dd034-010c-4107-97ae-933bec6a4e25"
      },
      "execution_count": 19,
      "outputs": [
        {
          "output_type": "stream",
          "name": "stdout",
          "text": [
            "Epoch 1/10\n",
            "53/53 [==============================] - 7s 27ms/step - loss: 9.7898e-04 - val_loss: 0.0011\n",
            "Epoch 2/10\n",
            "53/53 [==============================] - 1s 12ms/step - loss: 1.5174e-04 - val_loss: 9.9981e-04\n",
            "Epoch 3/10\n",
            "53/53 [==============================] - 1s 12ms/step - loss: 1.2694e-04 - val_loss: 8.7974e-04\n",
            "Epoch 4/10\n",
            "53/53 [==============================] - 1s 12ms/step - loss: 1.1412e-04 - val_loss: 9.8571e-04\n",
            "Epoch 5/10\n",
            "53/53 [==============================] - 1s 12ms/step - loss: 1.0375e-04 - val_loss: 0.0026\n",
            "Epoch 6/10\n",
            "53/53 [==============================] - 1s 13ms/step - loss: 9.9926e-05 - val_loss: 0.0023\n",
            "Epoch 7/10\n",
            "53/53 [==============================] - 1s 13ms/step - loss: 9.2368e-05 - val_loss: 0.0025\n",
            "Epoch 8/10\n",
            "53/53 [==============================] - 1s 12ms/step - loss: 8.8898e-05 - val_loss: 0.0026\n",
            "Epoch 9/10\n",
            "53/53 [==============================] - 1s 13ms/step - loss: 8.3536e-05 - val_loss: 0.0046\n",
            "Epoch 10/10\n",
            "53/53 [==============================] - 1s 13ms/step - loss: 8.2884e-05 - val_loss: 0.0041\n"
          ]
        },
        {
          "output_type": "execute_result",
          "data": {
            "text/plain": [
              "<keras.src.callbacks.History at 0x7c69500e6d10>"
            ]
          },
          "metadata": {},
          "execution_count": 19
        }
      ]
    },
    {
      "cell_type": "code",
      "source": [
        "train_predict = model.predict(x_train)\n",
        "test_predict = model.predict(x_test)"
      ],
      "metadata": {
        "colab": {
          "base_uri": "https://localhost:8080/"
        },
        "id": "i_2fVAcUCkBE",
        "outputId": "3d508452-4368-4bd3-efc4-863cb40e116f"
      },
      "execution_count": 20,
      "outputs": [
        {
          "output_type": "stream",
          "name": "stdout",
          "text": [
            "105/105 [==============================] - 1s 4ms/step\n",
            "55/55 [==============================] - 0s 5ms/step\n"
          ]
        }
      ]
    },
    {
      "cell_type": "code",
      "source": [
        "train_predict = scaler.inverse_transform(train_predict)\n",
        "test_predict = scaler.inverse_transform(test_predict)"
      ],
      "metadata": {
        "id": "0qM6Jcy8Cnck"
      },
      "execution_count": 21,
      "outputs": []
    },
    {
      "cell_type": "code",
      "source": [
        "train_mae_loss = np.mean(np.abs(train_predict - scaler.inverse_transform(y_train.reshape(-1, 1))), axis=1)\n",
        "test_mae_loss = np.mean(np.abs(test_predict - scaler.inverse_transform(y_test.reshape(-1, 1))), axis=1)"
      ],
      "metadata": {
        "id": "QvLJ17ZRCubJ"
      },
      "execution_count": 22,
      "outputs": []
    },
    {
      "cell_type": "code",
      "source": [
        "test_score_df = pd.DataFrame(index=df.index[training_size + time_step + 1:])\n",
        "test_score_df['loss_mae'] = test_mae_loss\n",
        "test_score_df['threshold'] = 0.65\n",
        "test_score_df['anomaly'] = test_score_df['loss_mae'] > test_score_df['threshold']\n",
        "\n",
        "print(test_score_df.head())"
      ],
      "metadata": {
        "colab": {
          "base_uri": "https://localhost:8080/"
        },
        "id": "1-7eGNF77MkL",
        "outputId": "414a5860-a6a1-4af4-95f0-0b6a2a070fdb"
      },
      "execution_count": 23,
      "outputs": [
        {
          "output_type": "stream",
          "name": "stdout",
          "text": [
            "             loss_mae  threshold  anomaly\n",
            "Date                                     \n",
            "2014-03-20  25.899768       0.65     True\n",
            "2014-03-21  21.324390       0.65     True\n",
            "2014-03-22  16.166980       0.65     True\n",
            "2014-03-24   9.710852       0.65     True\n",
            "2014-03-25  25.899329       0.65     True\n"
          ]
        }
      ]
    },
    {
      "cell_type": "code",
      "source": [
        "plt.plot(df.index[training_size + time_step + 1:], scaler.inverse_transform(data[training_size + time_step + 1:]), label='True values')\n",
        "plt.plot(df.index[training_size + time_step + 1:], test_predict, label='Predicted values')\n",
        "plt.scatter(test_score_df[test_score_df['anomaly']].index,\n",
        "            scaler.inverse_transform(data[training_size + time_step + 1:])[test_score_df['anomaly']],\n",
        "            color='red', label='Anomalies')\n",
        "plt.legend()\n",
        "plt.show()"
      ],
      "metadata": {
        "colab": {
          "base_uri": "https://localhost:8080/",
          "height": 430
        },
        "id": "mEV_9ZHK_WZ1",
        "outputId": "0cae13e7-cb46-49ed-f828-f6402f107a3d"
      },
      "execution_count": 24,
      "outputs": [
        {
          "output_type": "display_data",
          "data": {
            "text/plain": [
              "<Figure size 640x480 with 1 Axes>"
            ],
            "image/png": "[encoded data removed]"
          },
          "metadata": {}
        }
      ]
    },
    {
      "cell_type": "code",
      "source": [],
      "metadata": {
        "id": "kW4iMd2AE4Q4"
      },
      "execution_count": 27,
      "outputs": []
    }
  ]
}